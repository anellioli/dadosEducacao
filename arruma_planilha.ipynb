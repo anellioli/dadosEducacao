{
 "cells": [
  {
   "cell_type": "code",
   "execution_count": 1,
   "metadata": {},
   "outputs": [],
   "source": [
    "import pandas as pd\n",
    "import numpy as np\n",
    "import seaborn as srs\n",
    "import statistics as sts"
   ]
  },
  {
   "cell_type": "code",
   "execution_count": 3,
   "metadata": {},
   "outputs": [
    {
     "data": {
      "text/html": [
       "<div>\n",
       "<style scoped>\n",
       "    .dataframe tbody tr th:only-of-type {\n",
       "        vertical-align: middle;\n",
       "    }\n",
       "\n",
       "    .dataframe tbody tr th {\n",
       "        vertical-align: top;\n",
       "    }\n",
       "\n",
       "    .dataframe thead th {\n",
       "        text-align: right;\n",
       "    }\n",
       "</style>\n",
       "<table border=\"1\" class=\"dataframe\">\n",
       "  <thead>\n",
       "    <tr style=\"text-align: right;\">\n",
       "      <th></th>\n",
       "      <th>TOTAL_REGISTOS</th>\n",
       "      <th>ESCOLA</th>\n",
       "      <th>INEP</th>\n",
       "      <th>ANO</th>\n",
       "      <th>VALOR_DESTINADO</th>\n",
       "    </tr>\n",
       "  </thead>\n",
       "  <tbody>\n",
       "    <tr>\n",
       "      <th>0</th>\n",
       "      <td>1</td>\n",
       "      <td>CIEP 208 ALCEU AMOROSO LIMA</td>\n",
       "      <td>33049700</td>\n",
       "      <td>2019</td>\n",
       "      <td>R$    15.000,00</td>\n",
       "    </tr>\n",
       "    <tr>\n",
       "      <th>1</th>\n",
       "      <td>1</td>\n",
       "      <td>EE PADRE ARLINDO IGNACIO DE OLIVEIRA</td>\n",
       "      <td>51089432</td>\n",
       "      <td>2019</td>\n",
       "      <td>R$     9.960,00</td>\n",
       "    </tr>\n",
       "    <tr>\n",
       "      <th>2</th>\n",
       "      <td>1</td>\n",
       "      <td>EE PRESIDENTE TANCREDO DE ALMEIDA NEVES</td>\n",
       "      <td>31020265</td>\n",
       "      <td>2019</td>\n",
       "      <td>R$    12.000,00</td>\n",
       "    </tr>\n",
       "    <tr>\n",
       "      <th>3</th>\n",
       "      <td>1</td>\n",
       "      <td>ESCOLA ESTADUAL SATURNINO MARAES NETO</td>\n",
       "      <td>13096656</td>\n",
       "      <td>2018</td>\n",
       "      <td>R$    15.000,00</td>\n",
       "    </tr>\n",
       "    <tr>\n",
       "      <th>4</th>\n",
       "      <td>1</td>\n",
       "      <td>ESC EST ENS FUN GASTON AUGUSTO SANTOS CESAR CIEP</td>\n",
       "      <td>43171605</td>\n",
       "      <td>2019</td>\n",
       "      <td>R$    12.000,00</td>\n",
       "    </tr>\n",
       "  </tbody>\n",
       "</table>\n",
       "</div>"
      ],
      "text/plain": [
       "   TOTAL_REGISTOS                                            ESCOLA      INEP  \\\n",
       "0               1                       CIEP 208 ALCEU AMOROSO LIMA  33049700   \n",
       "1               1              EE PADRE ARLINDO IGNACIO DE OLIVEIRA  51089432   \n",
       "2               1           EE PRESIDENTE TANCREDO DE ALMEIDA NEVES  31020265   \n",
       "3               1             ESCOLA ESTADUAL SATURNINO MARAES NETO  13096656   \n",
       "4               1  ESC EST ENS FUN GASTON AUGUSTO SANTOS CESAR CIEP  43171605   \n",
       "\n",
       "    ANO  VALOR_DESTINADO  \n",
       "0  2019  R$    15.000,00  \n",
       "1  2019  R$     9.960,00  \n",
       "2  2019  R$    12.000,00  \n",
       "3  2018  R$    15.000,00  \n",
       "4  2019  R$    12.000,00  "
      ]
     },
     "execution_count": 3,
     "metadata": {},
     "output_type": "execute_result"
    }
   ],
   "source": [
    "ds = pd.read_csv(\"PDA_SECADI_Escola_Acessivel.csv\", sep=\",\")\n",
    "\n",
    "ds.head()"
   ]
  }
 ],
 "metadata": {
  "kernelspec": {
   "display_name": "Python 3 (ipykernel)",
   "language": "python",
   "name": "python3"
  },
  "language_info": {
   "codemirror_mode": {
    "name": "ipython",
    "version": 3
   },
   "file_extension": ".py",
   "mimetype": "text/x-python",
   "name": "python",
   "nbconvert_exporter": "python",
   "pygments_lexer": "ipython3",
   "version": "3.10.9"
  }
 },
 "nbformat": 4,
 "nbformat_minor": 2
}
